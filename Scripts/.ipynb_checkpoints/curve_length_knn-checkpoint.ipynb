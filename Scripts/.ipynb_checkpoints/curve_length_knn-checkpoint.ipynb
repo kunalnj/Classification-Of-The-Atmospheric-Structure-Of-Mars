{
 "cells": [
  {
   "cell_type": "code",
   "execution_count": 4,
   "metadata": {},
   "outputs": [],
   "source": [
    "import pandas as pd\n",
    "import numpy as np\n",
    "%matplotlib inline\n",
    "import matplotlib.pyplot as plt\n",
    "import os\n",
    "import h5py\n",
    "from peakfinder import detect_peaks\n",
    "from sklearn.model_selection import train_test_split\n",
    "from sklearn.metrics import precision_recall_fscore_support\n",
    "import scipy as sp\n",
    "from sklearn.metrics import classification_report\n",
    "import similaritymeasures\n",
    "from PIL import Image\n",
    "from tqdm import tqdm_notebook as tqdm\n",
    "#from fastdtw import fastdtw\n",
    "from scipy.spatial.distance import euclidean"
   ]
  },
  {
   "cell_type": "code",
   "execution_count": 5,
   "metadata": {},
   "outputs": [],
   "source": [
    "#df_labels = pd.read_csv(r'C:\\Users\\kj4755\\OneDrive - The Open University\\SPIN\\Transmission\\Scripts\\smooth_labels.dat',delimiter = '\\s+',header = None,index_col = None)\n",
    "#df_labels = pd.read_csv(r'C:\\Users\\kj4755\\OneDrive - The Open University\\SPIN\\Transmission\\Scripts\\modified_labels1.txt',delimiter = '\\s+',header = None,index_col = None)\n",
    "df_labels = pd.read_csv(r'C:\\Users\\kj4755\\OneDrive - The Open University\\SPIN\\Transmission\\Scripts\\new labels1.txt',delimiter = '\\s+',header = None,index_col = None)\n",
    "\n",
    "#df_labels = pd.read_csv(r'/Users/kunal/OneDrive - The Open University/SPIN/Transmission/Scripts/new labels1.txt',delimiter = '\\s+',header = None,index_col = None)\n",
    "\n",
    "df_labels.columns = ['File','Label']\n",
    "#df_labels = pd.read_csv(r'C:\\Users\\kj4755\\OneDrive - The Open University\\SPIN\\Transmission\\Scripts\\alt labels.txt',delimiter = '\\s+',header = None,index_col = None)\n",
    "#df_labels = df_labels.drop(df_labels[df_labels.Label == 6].index)"
   ]
  },
  {
   "cell_type": "code",
   "execution_count": 6,
   "metadata": {},
   "outputs": [
    {
     "data": {
      "text/plain": [
       "File     20180521_034316_1p0_UVIS_U.h5\n",
       "Label                                0\n",
       "Name: 25, dtype: object"
      ]
     },
     "execution_count": 6,
     "metadata": {},
     "output_type": "execute_result"
    }
   ],
   "source": [
    "df_labels.iloc[25]"
   ]
  },
  {
   "cell_type": "code",
   "execution_count": 7,
   "metadata": {},
   "outputs": [],
   "source": [
    "z = []\n",
    "y = []\n",
    "\n",
    "def find_nearest(array, value):\n",
    "    array = np.asarray(array)\n",
    "    idx = (np.abs(array - value)).argmin()\n",
    "    return array[idx]\n",
    "\n",
    "f_wav = 250\n",
    "\n",
    "rootDir = r'C:\\Users\\kj4755\\OneDrive - The Open University\\SPIN\\data\\level_1p0_data\\New occultations'\n",
    "#rootDir = r'/Users/kunal/OneDrive - The Open University/SPIN/data/level_1p0_data/New occultations'\n",
    "os.chdir(rootDir)\n",
    "list_of_files = os.listdir(os.getcwd())\n",
    "\n",
    "for each_df_file in df_labels['File']:\n",
    "    for each_file in list_of_files:\n",
    "        if each_file.startswith(each_df_file):\n",
    "            \n",
    "            file = h5py.File(r'C:\\Users\\kj4755\\OneDrive - The Open University\\SPIN\\data\\level_1p0_data\\New occultations\\%s' %each_file,'r')\n",
    "            #file = h5py.File(r'/Users/kunal/OneDrive - The Open University/SPIN/data/level_1p0_data/New occultations/%s' %each_file,'r')\n",
    "\n",
    "            \n",
    "            T = np.array(file['Science/Transmission'])\n",
    "            TangAlt = np.array(file['Geometry/Point0/TangentAltSurface'])\n",
    "            wav = np.array(file['Science/Wavelength'])\n",
    "\n",
    "            avg_TangAlt = []\n",
    "\n",
    "            for j in range(TangAlt.shape[0]):\n",
    "                avg_TangAlt.append(np.mean(TangAlt[j,:]))\n",
    "\n",
    "            T_wav = T[:,np.array(np.where(wav == find_nearest(wav,f_wav))).flatten()].reshape(-1,)\n",
    "\n",
    "            if T_wav[0] > 0.5:\n",
    "                T_wav = T_wav[::-1]\n",
    "\n",
    "            z.append(T_wav)\n",
    "            \n",
    "            if avg_TangAlt[0] > 100:\n",
    "                avg_TangAlt = avg_TangAlt[::-1]\n",
    "            \n",
    "            y.append(avg_TangAlt)\n",
    "            \n",
    "z = np.array(z)\n",
    "y = np.array(y)"
   ]
  },
  {
   "cell_type": "code",
   "execution_count": 8,
   "metadata": {},
   "outputs": [],
   "source": [
    "alt_interp = np.arange(0,274,1)\n",
    "t_interp = []\n",
    "for i in range(len(z)):\n",
    "    z_interp = np.interp(alt_interp,y[i],z[i])\n",
    "    t_interp.append(z_interp)\n",
    "t_interp = np.array(t_interp)\n",
    "t_interp[t_interp < 0] = 0.0001"
   ]
  },
  {
   "cell_type": "code",
   "execution_count": 9,
   "metadata": {},
   "outputs": [],
   "source": [
    "t_clipped = []\n",
    "for j,t in enumerate(t_interp):\n",
    "    clip = np.array([])\n",
    "    peak_idx = detect_peaks(t)\n",
    "    for _ in t[peak_idx]:\n",
    "        clip = np.append(clip,_)\n",
    "        if _ > 0.98:\n",
    "            break\n",
    "    t_clipped.append(t[:np.where(t == clip[-1])[0][0]])\n",
    "t_clipped = np.array(t_clipped)           "
   ]
  },
  {
   "cell_type": "code",
   "execution_count": 10,
   "metadata": {},
   "outputs": [],
   "source": [
    "clipped_len = []\n",
    "for t in t_clipped: \n",
    "    clipped_len.append(len(t))\n",
    "\n",
    "t_clipped_max1 = t_interp[:,:max(clipped_len)]\n",
    "t_clipped_max = t_interp[:,:max(clipped_len)]"
   ]
  },
  {
   "cell_type": "code",
   "execution_count": 11,
   "metadata": {},
   "outputs": [],
   "source": [
    "for i,t in enumerate(t_clipped_max):\n",
    "    \n",
    "    peak_idx = detect_peaks(t,mph=0.05)\n",
    "    valley_idx = detect_peaks(t,mph = 0.963, valley = True)\n",
    "\n",
    "    p_structure = []\n",
    "    v_structure_low = []\n",
    "    v_structure_high = []\n",
    "    \n",
    "    for peak in peak_idx:\n",
    "        if 0.2 < t[peak] < 0.963:\n",
    "            p_structure.append(peak)\n",
    "            \n",
    "    for valley in valley_idx:\n",
    "        if t[valley] < 0.2:\n",
    "            v_structure_low.append(valley)\n",
    "            \n",
    "    p_structure = np.array(p_structure)\n",
    "    v_structure_low = np.array(v_structure_low)\n",
    "    \n",
    "    if len(p_structure) != 0:\n",
    "        t_clipped_max[i,p_structure[0]]=5      "
   ]
  },
  {
   "cell_type": "code",
   "execution_count": 12,
   "metadata": {},
   "outputs": [],
   "source": [
    "alt_interp = np.arange(0,274,1)\n",
    "t_interp = []\n",
    "for i in range(len(z)):\n",
    "    z_interp = np.interp(alt_interp,y[i],z[i])\n",
    "    t_interp.append(z_interp)\n",
    "t_interp = np.array(t_interp)\n",
    "\n",
    "t_clipped = []\n",
    "for j,t in enumerate(t_interp):\n",
    "    clip = np.array([])\n",
    "    peak_idx = detect_peaks(t)\n",
    "    for _ in t[peak_idx]:\n",
    "        clip = np.append(clip,_)\n",
    "        if _ > 0.98:\n",
    "            break\n",
    "    t_clipped.append(t[:np.where(t == clip[-1])[0][0]])\n",
    "t_clipped = np.array(t_clipped)      "
   ]
  },
  {
   "cell_type": "code",
   "execution_count": 13,
   "metadata": {},
   "outputs": [
    {
     "name": "stdout",
     "output_type": "stream",
     "text": [
      "[36]\n"
     ]
    },
    {
     "data": {
      "text/plain": [
       "[<matplotlib.lines.Line2D at 0x1facaf5d2e8>]"
      ]
     },
     "execution_count": 13,
     "metadata": {},
     "output_type": "execute_result"
    },
    {
     "data": {
      "image/png": "[encoded data removed]",
      "text/plain": [
       "<Figure size 432x288 with 1 Axes>"
      ]
     },
     "metadata": {
      "needs_background": "light"
     },
     "output_type": "display_data"
    }
   ],
   "source": [
    "i = 17\n",
    "\n",
    "plt.plot(t_clipped_max[i],'b')\n",
    "peak_idx = detect_peaks(t_interp[i],mph=0.05)\n",
    "p_structure = []\n",
    "for peak in peak_idx:\n",
    "    if 0.2 < t_interp[i,peak] < 0.963:\n",
    "        p_structure.append(peak)\n",
    "p_structure = np.array(p_structure)\n",
    "print(p_structure)\n",
    "plt.plot(t_interp[i],'b--')\n",
    "plt.plot(p_structure,t_interp[i,p_structure],'rx')\n"
   ]
  },
  {
   "cell_type": "code",
   "execution_count": 14,
   "metadata": {},
   "outputs": [],
   "source": [
    "indices = np.arange(len(np.array(df_labels['Label'])))\n",
    "#X_train, X_test, y_train, y_test,id_train,id_test = train_test_split(t_interp, np.array(df_labels['Label']),indices, test_size=0.33,random_state = 10)\n",
    "#X_train, X_test, y_train, y_test,id_train,id_test = train_test_split(t_clipped_max, np.array(df_labels['Label']),indices, test_size=0.33)\n",
    "X_train, X_test, y_train, y_test,id_train,id_test = train_test_split(t_clipped_max1, np.array(df_labels['Label']),indices, test_size=0.33)"
   ]
  },
  {
   "cell_type": "code",
   "execution_count": 15,
   "metadata": {},
   "outputs": [
    {
     "data": {
      "text/plain": [
       "[<matplotlib.lines.Line2D at 0x1facaf5d630>]"
      ]
     },
     "execution_count": 15,
     "metadata": {},
     "output_type": "execute_result"
    },
    {
     "data": {
      "image/png": "[encoded data removed]",
      "text/plain": [
       "<Figure size 432x288 with 1 Axes>"
      ]
     },
     "metadata": {
      "needs_background": "light"
     },
     "output_type": "display_data"
    }
   ],
   "source": [
    "i,j = 7,8\n",
    "#print('clipped max = ',fastdtw(t_clipped_max[i],t_clipped_max[j],dist = euclidean)[0],'clipped = ',fastdtw(t_clipped[i],t_clipped[j],dist = euclidean)[0],'interp = ',fastdtw(t_interp[i],t_interp[j],dist = euclidean)[0])\n",
    "\n",
    "plt.plot(t_clipped_max[i],'b')\n",
    "plt.plot(t_clipped_max[j],'r')\n"
   ]
  },
  {
   "cell_type": "code",
   "execution_count": 16,
   "metadata": {},
   "outputs": [
    {
     "data": {
      "application/vnd.jupyter.widget-view+json": {
       "model_id": "0a7759ed4c8a4f58b124d0cd45bc72f1",
       "version_major": 2,
       "version_minor": 0
      },
      "text/plain": [
       "HBox(children=(IntProgress(value=0, max=124), HTML(value='')))"
      ]
     },
     "metadata": {},
     "output_type": "display_data"
    },
    {
     "name": "stdout",
     "output_type": "stream",
     "text": [
      "\n"
     ]
    }
   ],
   "source": [
    "dm = np.zeros((len(X_test),len(X_train)))\n",
    "\n",
    "for i in tqdm(range(len(X_test))):\n",
    "    \n",
    "    t0 = np.zeros((len(X_test[0]),2))\n",
    "    t0[:,0] = np.arange(len(X_test[0]))\n",
    "    t0[:,1] = X_test[i]\n",
    "    \n",
    "    for j in range(len(X_train)):\n",
    "        t1 = np.zeros((len(X_train[0]),2))\n",
    "        t1[:,0] = np.arange(len(X_train[0]))\n",
    "        t1[:,1] = X_train[j]\n",
    "        \n",
    "        dm[i,j] =similaritymeasures.curve_length_measure(t0,t1)\n",
    "        #dm[i,j] =similaritymeasures.pcm(t0,t1)\n",
    "        #dm[i,j] =similaritymeasures.frechet_dist(t0,t1)\n",
    "        #dm[i,j] = similaritymeasures.area_between_two_curves(t0,t1)\n",
    "        #dm[i,j] =similaritymeasures.dtw(t0,t1)[0]\n",
    "        #dm[i,j] =fastdtw(t0,t1,dist = euclidean)[0]"
   ]
  },
  {
   "cell_type": "code",
   "execution_count": 17,
   "metadata": {},
   "outputs": [
    {
     "data": {
      "text/plain": [
       "(124, 251)"
      ]
     },
     "execution_count": 17,
     "metadata": {},
     "output_type": "execute_result"
    }
   ],
   "source": [
    "dm.shape"
   ]
  },
  {
   "cell_type": "code",
   "execution_count": 18,
   "metadata": {},
   "outputs": [
    {
     "name": "stderr",
     "output_type": "stream",
     "text": [
      "C:\\Users\\kj4755\\AppData\\Local\\Continuum\\anaconda3\\lib\\site-packages\\sklearn\\metrics\\classification.py:1439: UndefinedMetricWarning: Recall and F-score are ill-defined and being set to 0.0 in labels with no true samples.\n",
      "  'recall', 'true', average, warn_for)\n"
     ]
    },
    {
     "name": "stdout",
     "output_type": "stream",
     "text": [
      "Max precision =  0.4724386724386724  at k = [9]\n"
     ]
    }
   ],
   "source": [
    "dm_sorted = dm[:,dm[:].argsort()]\n",
    "sorted_id = dm[:].argsort()\n",
    "label_matrix = y_train[sorted_id]\n",
    "\n",
    "\n",
    "precision = []\n",
    "for k in range(1,50):\n",
    "    labels = []\n",
    "    for i in range(len(y_test)):\n",
    "        labels.append(sp.stats.mode(label_matrix[i,:k])[0][0])\n",
    "\n",
    "    precision.append(precision_recall_fscore_support(labels,y_test,average = 'macro')[0])\n",
    "    \n",
    "k = np.array(np.where(precision == max(precision))).flatten() + 1\n",
    "\n",
    "print('Max precision = ', max(precision), ' at k =', k)"
   ]
  },
  {
   "cell_type": "code",
   "execution_count": 19,
   "metadata": {},
   "outputs": [
    {
     "name": "stdout",
     "output_type": "stream",
     "text": [
      "              precision    recall  f1-score   support\n",
      "\n",
      "         0.0       0.11      0.40      0.17         5\n",
      "         1.0       0.86      0.71      0.78        59\n",
      "         2.0       0.73      0.55      0.62        44\n",
      "         3.0       0.67      0.62      0.65        16\n",
      "         4.0       0.00      0.00      0.00         0\n",
      "\n",
      "    accuracy                           0.63       124\n",
      "   macro avg       0.47      0.46      0.44       124\n",
      "weighted avg       0.76      0.63      0.68       124\n",
      "\n"
     ]
    }
   ],
   "source": [
    "labels = []\n",
    "for i in range(len(y_test)):\n",
    "    labels.append(sp.stats.mode(label_matrix[i,:k[0]])[0][0])\n",
    "\n",
    "labels = np.array(labels)\n",
    "print(classification_report(labels,y_test))"
   ]
  },
  {
   "cell_type": "code",
   "execution_count": 20,
   "metadata": {},
   "outputs": [
    {
     "data": {
      "text/html": [
       "<div>\n",
       "<style scoped>\n",
       "    .dataframe tbody tr th:only-of-type {\n",
       "        vertical-align: middle;\n",
       "    }\n",
       "\n",
       "    .dataframe tbody tr th {\n",
       "        vertical-align: top;\n",
       "    }\n",
       "\n",
       "    .dataframe thead th {\n",
       "        text-align: right;\n",
       "    }\n",
       "</style>\n",
       "<table border=\"1\" class=\"dataframe\">\n",
       "  <thead>\n",
       "    <tr style=\"text-align: right;\">\n",
       "      <th></th>\n",
       "      <th>File</th>\n",
       "      <th>True Label</th>\n",
       "      <th>Predicted Label</th>\n",
       "    </tr>\n",
       "  </thead>\n",
       "  <tbody>\n",
       "    <tr>\n",
       "      <th>23</th>\n",
       "      <td>20180506_033232_1p0_UVIS_U.h5</td>\n",
       "      <td>2.0</td>\n",
       "      <td>1.0</td>\n",
       "    </tr>\n",
       "    <tr>\n",
       "      <th>30</th>\n",
       "      <td>20180523_032150_1p0_UVIS_U.h5</td>\n",
       "      <td>3.0</td>\n",
       "      <td>1.0</td>\n",
       "    </tr>\n",
       "    <tr>\n",
       "      <th>34</th>\n",
       "      <td>20180524_204056_1p0_UVIS_U.h5</td>\n",
       "      <td>4.0</td>\n",
       "      <td>2.0</td>\n",
       "    </tr>\n",
       "    <tr>\n",
       "      <th>79</th>\n",
       "      <td>20180618_041348_1p0_UVIS_U.h5</td>\n",
       "      <td>0.0</td>\n",
       "      <td>1.0</td>\n",
       "    </tr>\n",
       "    <tr>\n",
       "      <th>85</th>\n",
       "      <td>20180619_070152_1p0_UVIS_U.h5</td>\n",
       "      <td>2.0</td>\n",
       "      <td>1.0</td>\n",
       "    </tr>\n",
       "    <tr>\n",
       "      <th>88</th>\n",
       "      <td>20180619_094121_1p0_UVIS_E.h5</td>\n",
       "      <td>3.0</td>\n",
       "      <td>1.0</td>\n",
       "    </tr>\n",
       "    <tr>\n",
       "      <th>98</th>\n",
       "      <td>20180620_071726_1p0_UVIS_U.h5</td>\n",
       "      <td>0.0</td>\n",
       "      <td>2.0</td>\n",
       "    </tr>\n",
       "    <tr>\n",
       "      <th>101</th>\n",
       "      <td>20180620_142803_1p0_UVIS_I.h5</td>\n",
       "      <td>4.0</td>\n",
       "      <td>2.0</td>\n",
       "    </tr>\n",
       "    <tr>\n",
       "      <th>103</th>\n",
       "      <td>20180621_021523_1p0_UVIS_U.h5</td>\n",
       "      <td>3.0</td>\n",
       "      <td>2.0</td>\n",
       "    </tr>\n",
       "    <tr>\n",
       "      <th>106</th>\n",
       "      <td>20180621_065117_1p0_UVIS_U.h5</td>\n",
       "      <td>2.0</td>\n",
       "      <td>1.0</td>\n",
       "    </tr>\n",
       "    <tr>\n",
       "      <th>116</th>\n",
       "      <td>20180622_022920_1p0_UVIS_U.h5</td>\n",
       "      <td>1.0</td>\n",
       "      <td>0.0</td>\n",
       "    </tr>\n",
       "    <tr>\n",
       "      <th>121</th>\n",
       "      <td>20180622_133742_1p0_UVIS_U.h5</td>\n",
       "      <td>1.0</td>\n",
       "      <td>2.0</td>\n",
       "    </tr>\n",
       "    <tr>\n",
       "      <th>123</th>\n",
       "      <td>20180622_173333_1p0_UVIS_U.h5</td>\n",
       "      <td>0.0</td>\n",
       "      <td>1.0</td>\n",
       "    </tr>\n",
       "    <tr>\n",
       "      <th>128</th>\n",
       "      <td>20180623_020302_1p0_UVIS_E.h5</td>\n",
       "      <td>2.0</td>\n",
       "      <td>0.0</td>\n",
       "    </tr>\n",
       "    <tr>\n",
       "      <th>132</th>\n",
       "      <td>20180623_174521_1p0_UVIS_U.h5</td>\n",
       "      <td>2.0</td>\n",
       "      <td>0.0</td>\n",
       "    </tr>\n",
       "    <tr>\n",
       "      <th>133</th>\n",
       "      <td>20180623_210425_1p0_UVIS_U.h5</td>\n",
       "      <td>2.0</td>\n",
       "      <td>1.0</td>\n",
       "    </tr>\n",
       "    <tr>\n",
       "      <th>134</th>\n",
       "      <td>20180623_214058_1p0_UVIS_U.h5</td>\n",
       "      <td>2.0</td>\n",
       "      <td>3.0</td>\n",
       "    </tr>\n",
       "    <tr>\n",
       "      <th>136</th>\n",
       "      <td>20180624_013630_1p0_UVIS_U.h5</td>\n",
       "      <td>4.0</td>\n",
       "      <td>2.0</td>\n",
       "    </tr>\n",
       "    <tr>\n",
       "      <th>137</th>\n",
       "      <td>20180624_045601_1p0_UVIS_U.h5</td>\n",
       "      <td>0.0</td>\n",
       "      <td>2.0</td>\n",
       "    </tr>\n",
       "    <tr>\n",
       "      <th>162</th>\n",
       "      <td>20180626_135630_1p0_UVIS_U.h5</td>\n",
       "      <td>0.0</td>\n",
       "      <td>2.0</td>\n",
       "    </tr>\n",
       "    <tr>\n",
       "      <th>167</th>\n",
       "      <td>20180627_001459_1p0_UVIS_U.h5</td>\n",
       "      <td>3.0</td>\n",
       "      <td>1.0</td>\n",
       "    </tr>\n",
       "    <tr>\n",
       "      <th>169</th>\n",
       "      <td>20180627_021237_1p0_UVIS_U.h5</td>\n",
       "      <td>3.0</td>\n",
       "      <td>2.0</td>\n",
       "    </tr>\n",
       "    <tr>\n",
       "      <th>175</th>\n",
       "      <td>20180627_175314_1p0_UVIS_U.h5</td>\n",
       "      <td>0.0</td>\n",
       "      <td>2.0</td>\n",
       "    </tr>\n",
       "    <tr>\n",
       "      <th>176</th>\n",
       "      <td>20180627_192617_1p0_UVIS_U.h5</td>\n",
       "      <td>0.0</td>\n",
       "      <td>2.0</td>\n",
       "    </tr>\n",
       "    <tr>\n",
       "      <th>178</th>\n",
       "      <td>20180628_012021_1p0_UVIS_U.h5</td>\n",
       "      <td>0.0</td>\n",
       "      <td>2.0</td>\n",
       "    </tr>\n",
       "    <tr>\n",
       "      <th>179</th>\n",
       "      <td>20180628_014311_1p0_UVIS_U.h5</td>\n",
       "      <td>0.0</td>\n",
       "      <td>2.0</td>\n",
       "    </tr>\n",
       "    <tr>\n",
       "      <th>182</th>\n",
       "      <td>20180714_092935_1p0_UVIS_U.h5</td>\n",
       "      <td>1.0</td>\n",
       "      <td>2.0</td>\n",
       "    </tr>\n",
       "    <tr>\n",
       "      <th>196</th>\n",
       "      <td>20180715_202413_1p0_UVIS_U.h5</td>\n",
       "      <td>0.0</td>\n",
       "      <td>1.0</td>\n",
       "    </tr>\n",
       "    <tr>\n",
       "      <th>198</th>\n",
       "      <td>20180716_061320_1p0_UVIS_U.h5</td>\n",
       "      <td>0.0</td>\n",
       "      <td>1.0</td>\n",
       "    </tr>\n",
       "    <tr>\n",
       "      <th>199</th>\n",
       "      <td>20180716_064615_1p0_UVIS_U.h5</td>\n",
       "      <td>1.0</td>\n",
       "      <td>2.0</td>\n",
       "    </tr>\n",
       "    <tr>\n",
       "      <th>222</th>\n",
       "      <td>20181202_054201</td>\n",
       "      <td>0.0</td>\n",
       "      <td>2.0</td>\n",
       "    </tr>\n",
       "    <tr>\n",
       "      <th>230</th>\n",
       "      <td>20181202_232402</td>\n",
       "      <td>2.0</td>\n",
       "      <td>1.0</td>\n",
       "    </tr>\n",
       "    <tr>\n",
       "      <th>234</th>\n",
       "      <td>20181204_085003</td>\n",
       "      <td>4.0</td>\n",
       "      <td>2.0</td>\n",
       "    </tr>\n",
       "    <tr>\n",
       "      <th>242</th>\n",
       "      <td>20181205_062804</td>\n",
       "      <td>4.0</td>\n",
       "      <td>3.0</td>\n",
       "    </tr>\n",
       "    <tr>\n",
       "      <th>243</th>\n",
       "      <td>20181205_070300</td>\n",
       "      <td>1.0</td>\n",
       "      <td>3.0</td>\n",
       "    </tr>\n",
       "    <tr>\n",
       "      <th>260</th>\n",
       "      <td>20181207_073747</td>\n",
       "      <td>4.0</td>\n",
       "      <td>2.0</td>\n",
       "    </tr>\n",
       "    <tr>\n",
       "      <th>264</th>\n",
       "      <td>20181207_133140</td>\n",
       "      <td>4.0</td>\n",
       "      <td>3.0</td>\n",
       "    </tr>\n",
       "    <tr>\n",
       "      <th>270</th>\n",
       "      <td>20181208_031730</td>\n",
       "      <td>4.0</td>\n",
       "      <td>2.0</td>\n",
       "    </tr>\n",
       "    <tr>\n",
       "      <th>272</th>\n",
       "      <td>20181208_190119</td>\n",
       "      <td>4.0</td>\n",
       "      <td>1.0</td>\n",
       "    </tr>\n",
       "    <tr>\n",
       "      <th>273</th>\n",
       "      <td>20181208_193739</td>\n",
       "      <td>2.0</td>\n",
       "      <td>1.0</td>\n",
       "    </tr>\n",
       "    <tr>\n",
       "      <th>290</th>\n",
       "      <td>20181210_161406</td>\n",
       "      <td>0.0</td>\n",
       "      <td>1.0</td>\n",
       "    </tr>\n",
       "    <tr>\n",
       "      <th>315</th>\n",
       "      <td>20181213_015333</td>\n",
       "      <td>1.0</td>\n",
       "      <td>3.0</td>\n",
       "    </tr>\n",
       "    <tr>\n",
       "      <th>323</th>\n",
       "      <td>20181213_233120</td>\n",
       "      <td>1.0</td>\n",
       "      <td>3.0</td>\n",
       "    </tr>\n",
       "    <tr>\n",
       "      <th>347</th>\n",
       "      <td>20181218_105552</td>\n",
       "      <td>0.0</td>\n",
       "      <td>1.0</td>\n",
       "    </tr>\n",
       "    <tr>\n",
       "      <th>348</th>\n",
       "      <td>20181218_212806</td>\n",
       "      <td>0.0</td>\n",
       "      <td>1.0</td>\n",
       "    </tr>\n",
       "    <tr>\n",
       "      <th>370</th>\n",
       "      <td>20181223_045314</td>\n",
       "      <td>0.0</td>\n",
       "      <td>2.0</td>\n",
       "    </tr>\n",
       "  </tbody>\n",
       "</table>\n",
       "</div>"
      ],
      "text/plain": [
       "                              File  True Label  Predicted Label\n",
       "23   20180506_033232_1p0_UVIS_U.h5         2.0              1.0\n",
       "30   20180523_032150_1p0_UVIS_U.h5         3.0              1.0\n",
       "34   20180524_204056_1p0_UVIS_U.h5         4.0              2.0\n",
       "79   20180618_041348_1p0_UVIS_U.h5         0.0              1.0\n",
       "85   20180619_070152_1p0_UVIS_U.h5         2.0              1.0\n",
       "88   20180619_094121_1p0_UVIS_E.h5         3.0              1.0\n",
       "98   20180620_071726_1p0_UVIS_U.h5         0.0              2.0\n",
       "101  20180620_142803_1p0_UVIS_I.h5         4.0              2.0\n",
       "103  20180621_021523_1p0_UVIS_U.h5         3.0              2.0\n",
       "106  20180621_065117_1p0_UVIS_U.h5         2.0              1.0\n",
       "116  20180622_022920_1p0_UVIS_U.h5         1.0              0.0\n",
       "121  20180622_133742_1p0_UVIS_U.h5         1.0              2.0\n",
       "123  20180622_173333_1p0_UVIS_U.h5         0.0              1.0\n",
       "128  20180623_020302_1p0_UVIS_E.h5         2.0              0.0\n",
       "132  20180623_174521_1p0_UVIS_U.h5         2.0              0.0\n",
       "133  20180623_210425_1p0_UVIS_U.h5         2.0              1.0\n",
       "134  20180623_214058_1p0_UVIS_U.h5         2.0              3.0\n",
       "136  20180624_013630_1p0_UVIS_U.h5         4.0              2.0\n",
       "137  20180624_045601_1p0_UVIS_U.h5         0.0              2.0\n",
       "162  20180626_135630_1p0_UVIS_U.h5         0.0              2.0\n",
       "167  20180627_001459_1p0_UVIS_U.h5         3.0              1.0\n",
       "169  20180627_021237_1p0_UVIS_U.h5         3.0              2.0\n",
       "175  20180627_175314_1p0_UVIS_U.h5         0.0              2.0\n",
       "176  20180627_192617_1p0_UVIS_U.h5         0.0              2.0\n",
       "178  20180628_012021_1p0_UVIS_U.h5         0.0              2.0\n",
       "179  20180628_014311_1p0_UVIS_U.h5         0.0              2.0\n",
       "182  20180714_092935_1p0_UVIS_U.h5         1.0              2.0\n",
       "196  20180715_202413_1p0_UVIS_U.h5         0.0              1.0\n",
       "198  20180716_061320_1p0_UVIS_U.h5         0.0              1.0\n",
       "199  20180716_064615_1p0_UVIS_U.h5         1.0              2.0\n",
       "222                20181202_054201         0.0              2.0\n",
       "230                20181202_232402         2.0              1.0\n",
       "234                20181204_085003         4.0              2.0\n",
       "242                20181205_062804         4.0              3.0\n",
       "243                20181205_070300         1.0              3.0\n",
       "260                20181207_073747         4.0              2.0\n",
       "264                20181207_133140         4.0              3.0\n",
       "270                20181208_031730         4.0              2.0\n",
       "272                20181208_190119         4.0              1.0\n",
       "273                20181208_193739         2.0              1.0\n",
       "290                20181210_161406         0.0              1.0\n",
       "315                20181213_015333         1.0              3.0\n",
       "323                20181213_233120         1.0              3.0\n",
       "347                20181218_105552         0.0              1.0\n",
       "348                20181218_212806         0.0              1.0\n",
       "370                20181223_045314         0.0              2.0"
      ]
     },
     "execution_count": 20,
     "metadata": {},
     "output_type": "execute_result"
    }
   ],
   "source": [
    "def show_false_files(pred_classes, show_files = False):\n",
    "\n",
    "    false_files = np.array(df_labels.File.iloc[id_test[np.where(abs(pred_classes-y_test) != 0)]])\n",
    "    df_false = pd.DataFrame(columns=['File','True Label','Predicted Label'],index=id_test[np.where(abs(pred_classes-y_test) != 0)])\n",
    "    df_false['File'] = false_files\n",
    "    a = []\n",
    "    b = []\n",
    "    for i in range(len(y_test)):\n",
    "        if abs(pred_classes[i]-y_test[i]) != 0:\n",
    "            a.append(y_test[i])\n",
    "            b.append(pred_classes[i])\n",
    "\n",
    "    df_false['True Label'] = a\n",
    "    df_false['Predicted Label'] = b\n",
    "    df_false.sort_index(inplace = True)\n",
    "\n",
    "    if show_files:\n",
    "        os.chdir(r'C:\\Users\\kj4755\\OneDrive - The Open University\\SPIN\\Transmission\\Plot_%snm' %f_wav)\n",
    "        file_list = os.listdir()\n",
    "        for each_file in file_list:\n",
    "            for _ in false_files:\n",
    "                if each_file.startswith(_):\n",
    "                    img = Image.open(each_file)\n",
    "                    img.show()\n",
    "\n",
    "\n",
    "    return df_false\n",
    "\n",
    "\n",
    "show_false_files(pred_classes=labels)"
   ]
  },
  {
   "cell_type": "code",
   "execution_count": 21,
   "metadata": {},
   "outputs": [
    {
     "name": "stdout",
     "output_type": "stream",
     "text": [
      "[]\n"
     ]
    },
    {
     "ename": "IndexError",
     "evalue": "arrays used as indices must be of integer (or boolean) type",
     "output_type": "error",
     "traceback": [
      "\u001b[1;31m---------------------------------------------------------------------------\u001b[0m",
      "\u001b[1;31mIndexError\u001b[0m                                Traceback (most recent call last)",
      "\u001b[1;32m<ipython-input-21-ac370b3e4804>\u001b[0m in \u001b[0;36m<module>\u001b[1;34m\u001b[0m\n\u001b[0;32m     11\u001b[0m \u001b[0mplt\u001b[0m\u001b[1;33m.\u001b[0m\u001b[0msubplot\u001b[0m\u001b[1;33m(\u001b[0m\u001b[1;36m1\u001b[0m\u001b[1;33m,\u001b[0m\u001b[1;36m2\u001b[0m\u001b[1;33m,\u001b[0m\u001b[1;36m2\u001b[0m\u001b[1;33m)\u001b[0m\u001b[1;33m\u001b[0m\u001b[1;33m\u001b[0m\u001b[0m\n\u001b[0;32m     12\u001b[0m \u001b[0mplt\u001b[0m\u001b[1;33m.\u001b[0m\u001b[0mplot\u001b[0m\u001b[1;33m(\u001b[0m\u001b[0mt_interp\u001b[0m\u001b[1;33m[\u001b[0m\u001b[0mi\u001b[0m\u001b[1;33m]\u001b[0m\u001b[1;33m,\u001b[0m\u001b[1;34m'b--'\u001b[0m\u001b[1;33m)\u001b[0m\u001b[1;33m\u001b[0m\u001b[1;33m\u001b[0m\u001b[0m\n\u001b[1;32m---> 13\u001b[1;33m \u001b[0mplt\u001b[0m\u001b[1;33m.\u001b[0m\u001b[0mplot\u001b[0m\u001b[1;33m(\u001b[0m\u001b[0mp_structure\u001b[0m\u001b[1;33m,\u001b[0m\u001b[0mt_interp\u001b[0m\u001b[1;33m[\u001b[0m\u001b[0mi\u001b[0m\u001b[1;33m,\u001b[0m\u001b[0mp_structure\u001b[0m\u001b[1;33m]\u001b[0m\u001b[1;33m,\u001b[0m\u001b[1;34m'rx'\u001b[0m\u001b[1;33m)\u001b[0m\u001b[1;33m\u001b[0m\u001b[1;33m\u001b[0m\u001b[0m\n\u001b[0m",
      "\u001b[1;31mIndexError\u001b[0m: arrays used as indices must be of integer (or boolean) type"
     ]
    },
    {
     "data": {
      "image/png": "[encoded data removed]",
      "text/plain": [
       "<Figure size 432x288 with 2 Axes>"
      ]
     },
     "metadata": {
      "needs_background": "light"
     },
     "output_type": "display_data"
    }
   ],
   "source": [
    "i = 26\n",
    "plt.subplot(1,2,1)\n",
    "plt.plot(t_clipped_max[i],'b')\n",
    "peak_idx = detect_peaks(t_interp[i],mph=0.05)\n",
    "p_structure = []\n",
    "for peak in peak_idx:\n",
    "    if 0.2 < t_interp[i,peak] < 0.963:\n",
    "        p_structure.append(peak)\n",
    "p_structure = np.array(p_structure)\n",
    "print(p_structure)\n",
    "plt.subplot(1,2,2)\n",
    "plt.plot(t_interp[i],'b--')\n",
    "plt.plot(p_structure,t_interp[i,p_structure],'rx')"
   ]
  }
 ],
 "metadata": {
  "kernelspec": {
   "display_name": "Python 3",
   "language": "python",
   "name": "python3"
  },
  "language_info": {
   "codemirror_mode": {
    "name": "ipython",
    "version": 3
   },
   "file_extension": ".py",
   "mimetype": "text/x-python",
   "name": "python",
   "nbconvert_exporter": "python",
   "pygments_lexer": "ipython3",
   "version": "3.7.3"
  }
 },
 "nbformat": 4,
 "nbformat_minor": 2
}
