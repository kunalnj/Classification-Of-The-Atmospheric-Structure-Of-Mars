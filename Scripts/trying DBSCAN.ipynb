{
 "cells": [
  {
   "cell_type": "code",
   "execution_count": 21,
   "metadata": {},
   "outputs": [],
   "source": [
    "import pandas as pd\n",
    "import matplotlib.pyplot as plt\n",
    "import sklearn\n",
    "from sklearn.cluster import DBSCAN\n",
    "import h5py\n",
    "import numpy as np\n",
    "from collections import Counter"
   ]
  },
  {
   "cell_type": "code",
   "execution_count": 17,
   "metadata": {},
   "outputs": [],
   "source": [
    "file = h5py.File(r'C:\\Users\\kj4755\\OneDrive - The Open University\\SPIN\\data\\level_1p0_data\\occultation\\20180503_004934_1p0_UVIS_U.h5','r')\n",
    "\n",
    "T = np.array(file['Science/Transmission'])\n",
    "TangAlt = np.array(file['Geometry/Point0/TangentAltSurface'])\n",
    "wav = np.array(file['Science/Wavelength'])\n",
    "\n",
    "\n",
    "avg_TangAlt = np.array([])\n",
    "\n",
    "for j in range(TangAlt.shape[0]):\n",
    "    avg_TangAlt = np.append(avg_TangAlt,np.mean(TangAlt[j,:]))\n",
    "\n",
    "T_250 = T[:,np.array(np.where(wav == min(abs(wav-250))+250)).flatten()].flatten()"
   ]
  },
  {
   "cell_type": "code",
   "execution_count": 18,
   "metadata": {},
   "outputs": [
    {
     "data": {
      "text/html": [
       "<div>\n",
       "<style scoped>\n",
       "    .dataframe tbody tr th:only-of-type {\n",
       "        vertical-align: middle;\n",
       "    }\n",
       "\n",
       "    .dataframe tbody tr th {\n",
       "        vertical-align: top;\n",
       "    }\n",
       "\n",
       "    .dataframe thead th {\n",
       "        text-align: right;\n",
       "    }\n",
       "</style>\n",
       "<table border=\"1\" class=\"dataframe\">\n",
       "  <thead>\n",
       "    <tr style=\"text-align: right;\">\n",
       "      <th></th>\n",
       "      <th>Transmission</th>\n",
       "      <th>Altitude</th>\n",
       "    </tr>\n",
       "  </thead>\n",
       "  <tbody>\n",
       "    <tr>\n",
       "      <th>0</th>\n",
       "      <td>1.004901</td>\n",
       "      <td>253.258959</td>\n",
       "    </tr>\n",
       "    <tr>\n",
       "      <th>1</th>\n",
       "      <td>1.002096</td>\n",
       "      <td>251.379710</td>\n",
       "    </tr>\n",
       "    <tr>\n",
       "      <th>2</th>\n",
       "      <td>1.001243</td>\n",
       "      <td>249.557804</td>\n",
       "    </tr>\n",
       "    <tr>\n",
       "      <th>3</th>\n",
       "      <td>1.008237</td>\n",
       "      <td>247.759906</td>\n",
       "    </tr>\n",
       "    <tr>\n",
       "      <th>4</th>\n",
       "      <td>1.001764</td>\n",
       "      <td>245.962882</td>\n",
       "    </tr>\n",
       "  </tbody>\n",
       "</table>\n",
       "</div>"
      ],
      "text/plain": [
       "   Transmission    Altitude\n",
       "0      1.004901  253.258959\n",
       "1      1.002096  251.379710\n",
       "2      1.001243  249.557804\n",
       "3      1.008237  247.759906\n",
       "4      1.001764  245.962882"
      ]
     },
     "execution_count": 18,
     "metadata": {},
     "output_type": "execute_result"
    }
   ],
   "source": [
    "df = pd.DataFrame({'Transmission' : T_250, 'Altitude' : avg_TangAlt})\n",
    "df.head()"
   ]
  },
  {
   "cell_type": "code",
   "execution_count": 19,
   "metadata": {},
   "outputs": [],
   "source": [
    "data = df.iloc[:,0:2]"
   ]
  },
  {
   "cell_type": "code",
   "execution_count": 42,
   "metadata": {},
   "outputs": [
    {
     "name": "stdout",
     "output_type": "stream",
     "text": [
      "DBSCAN(algorithm='auto', eps=0.001, leaf_size=30, metric='euclidean',\n",
      "       metric_params=None, min_samples=19, n_jobs=None, p=None)\n"
     ]
    }
   ],
   "source": [
    "model = DBSCAN(eps = 0.001, min_samples=19).fit(data)\n",
    "print(model)"
   ]
  },
  {
   "cell_type": "code",
   "execution_count": 43,
   "metadata": {},
   "outputs": [
    {
     "name": "stdout",
     "output_type": "stream",
     "text": [
      "[-1 -1 -1 -1 -1 -1 -1 -1 -1 -1 -1 -1 -1 -1 -1 -1 -1 -1 -1 -1 -1 -1 -1 -1\n",
      " -1 -1 -1 -1 -1 -1 -1 -1 -1 -1 -1 -1 -1 -1 -1 -1 -1 -1 -1 -1 -1 -1 -1 -1\n",
      " -1 -1 -1 -1 -1 -1 -1 -1 -1 -1 -1 -1 -1 -1 -1 -1 -1 -1 -1 -1 -1 -1 -1 -1\n",
      " -1 -1 -1 -1 -1 -1 -1 -1 -1 -1 -1 -1 -1 -1 -1 -1 -1 -1 -1 -1 -1 -1 -1 -1\n",
      " -1 -1 -1 -1 -1 -1 -1 -1 -1 -1 -1 -1 -1 -1 -1 -1]\n",
      "     Transmission    Altitude\n",
      "0        1.004901  253.258959\n",
      "1        1.002096  251.379710\n",
      "2        1.001243  249.557804\n",
      "3        1.008237  247.759906\n",
      "4        1.001764  245.962882\n",
      "5        1.002876  244.148479\n",
      "6        1.001752  242.319425\n",
      "7        1.002866  240.479193\n",
      "8        1.002428  238.648270\n",
      "9        1.001469  236.790094\n",
      "10       1.004783  234.899351\n",
      "11       1.005669  232.990152\n",
      "12       1.000382  231.062320\n",
      "13       1.001020  229.228180\n",
      "14       1.001287  227.373588\n",
      "15       1.001427  225.518289\n",
      "16       0.997723  223.609856\n",
      "17       0.999288  221.690055\n",
      "18       0.999878  219.761585\n",
      "19       0.995342  217.828321\n",
      "20       0.995117  215.879619\n",
      "21       1.000178  213.892940\n",
      "22       0.994630  211.942003\n",
      "23       0.996390  209.974785\n",
      "24       0.998514  208.021381\n",
      "25       0.998711  206.053581\n",
      "26       0.994094  204.060645\n",
      "27       0.992933  202.048764\n",
      "28       0.995288  199.991106\n",
      "29       0.994091  197.913560\n",
      "..            ...         ...\n",
      "82       1.008870   75.739258\n",
      "83       1.016893   73.329793\n",
      "84       1.014133   70.980709\n",
      "85       1.011488   68.621538\n",
      "86       1.007758   66.253456\n",
      "87       1.006842   63.761848\n",
      "88       0.997887   61.210354\n",
      "89       0.775646   58.644236\n",
      "90       0.620346   56.114225\n",
      "91       0.526361   53.631391\n",
      "92       0.322835   51.246843\n",
      "93       0.218015   48.838535\n",
      "94       0.167002   46.409669\n",
      "95       0.236705   43.881523\n",
      "96       0.294730   41.322715\n",
      "97       0.353470   38.705122\n",
      "98       0.368448   36.001333\n",
      "99       0.247731   33.181887\n",
      "100      0.189983   30.450972\n",
      "101      0.130347   27.673369\n",
      "102      0.081757   24.897599\n",
      "103      0.058758   22.163971\n",
      "104      0.048023   19.388118\n",
      "105      0.028976   16.693927\n",
      "106      0.012620   14.059301\n",
      "107      0.003524   11.432858\n",
      "108      0.002159    8.646761\n",
      "109      0.002066    5.913904\n",
      "110      0.001985    2.925362\n",
      "111      0.004023    0.175423\n",
      "\n",
      "[112 rows x 2 columns]\n"
     ]
    }
   ],
   "source": [
    "outliers_df = pd.DataFrame(data)\n",
    "print(model.labels_)\n",
    "print(outliers_df[model.labels_ == -1])"
   ]
  },
  {
   "cell_type": "code",
   "execution_count": 44,
   "metadata": {},
   "outputs": [
    {
     "data": {
      "text/plain": [
       "<matplotlib.collections.PathCollection at 0x2b9e9c29438>"
      ]
     },
     "execution_count": 44,
     "metadata": {},
     "output_type": "execute_result"
    },
    {
     "data": {
      "image/png": "[encoded data removed]",
      "text/plain": [
       "<Figure size 432x288 with 1 Axes>"
      ]
     },
     "metadata": {
      "needs_background": "light"
     },
     "output_type": "display_data"
    }
   ],
   "source": [
    "fig = plt.figure()\n",
    "ax = fig.add_axes([.1,.1,1,1])\n",
    "\n",
    "colors = model.labels_\n",
    "\n",
    "ax.scatter(df.iloc[:,1],df.iloc[:,0], c = colors, s = 120)"
   ]
  },
  {
   "cell_type": "code",
   "execution_count": null,
   "metadata": {},
   "outputs": [],
   "source": []
  },
  {
   "cell_type": "code",
   "execution_count": null,
   "metadata": {},
   "outputs": [],
   "source": []
  }
 ],
 "metadata": {
  "kernelspec": {
   "display_name": "Python 3",
   "language": "python",
   "name": "python3"
  },
  "language_info": {
   "codemirror_mode": {
    "name": "ipython",
    "version": 3
   },
   "file_extension": ".py",
   "mimetype": "text/x-python",
   "name": "python",
   "nbconvert_exporter": "python",
   "pygments_lexer": "ipython3",
   "version": "3.7.3"
  }
 },
 "nbformat": 4,
 "nbformat_minor": 2
}
