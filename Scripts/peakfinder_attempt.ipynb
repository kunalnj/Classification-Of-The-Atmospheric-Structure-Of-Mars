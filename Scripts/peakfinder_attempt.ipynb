{
 "cells": [
  {
   "cell_type": "code",
   "execution_count": 98,
   "metadata": {},
   "outputs": [],
   "source": [
    "import pandas as pd\n",
    "import numpy as np\n",
    "%matplotlib inline\n",
    "import matplotlib.pyplot as plt\n",
    "import os\n",
    "import h5py\n",
    "from peakfinder import detect_peaks\n",
    "from sklearn.model_selection import train_test_split\n",
    "from sklearn.metrics import precision_recall_fscore_support\n",
    "import scipy as sp\n",
    "from sklearn.metrics import classification_report\n",
    "#import similaritymeasures\n",
    "from PIL import Image\n",
    "from tqdm import tqdm_notebook as tqdm"
   ]
  },
  {
   "cell_type": "code",
   "execution_count": 99,
   "metadata": {},
   "outputs": [],
   "source": [
    "df_labels = pd.read_csv(r'C:\\Users\\kj4755\\OneDrive - The Open University\\SPIN\\Transmission\\Scripts\\alt labels.txt',delimiter = '\\s+',header = None,index_col = None)\n",
    "#df_labels = pd.read_csv(r'/Users/kunal/OneDrive - The Open University/SPIN/Transmission/Scripts/alt labels.txt',delimiter = '\\s+',header = None,index_col = None)\n",
    "\n",
    "df_labels.columns = ['File','Label']\n",
    "df_labels = df_labels.drop(df_labels[df_labels.Label == 6].index)\n",
    "#df_labels = df_labels[df_labels.Label != 6]"
   ]
  },
  {
   "cell_type": "code",
   "execution_count": 100,
   "metadata": {},
   "outputs": [
    {
     "data": {
      "text/plain": [
       "File     20180616_220310_1p0_UVIS_U.h5\n",
       "Label                                3\n",
       "Name: 75, dtype: object"
      ]
     },
     "execution_count": 100,
     "metadata": {},
     "output_type": "execute_result"
    }
   ],
   "source": [
    "df_labels.iloc[71]"
   ]
  },
  {
   "cell_type": "code",
   "execution_count": 101,
   "metadata": {},
   "outputs": [],
   "source": [
    "z = []\n",
    "y = []\n",
    "\n",
    "def find_nearest(array, value):\n",
    "    array = np.asarray(array)\n",
    "    idx = (np.abs(array - value)).argmin()\n",
    "    return array[idx]\n",
    "\n",
    "f_wav = 250\n",
    "\n",
    "rootDir = r'C:\\Users\\kj4755\\OneDrive - The Open University\\SPIN\\data\\level_1p0_data\\New occultations'\n",
    "#rootDir = r'/Users/kunal/OneDrive - The Open University/SPIN/data/level_1p0_data/New occultations'\n",
    "os.chdir(rootDir)\n",
    "list_of_files = os.listdir(os.getcwd())\n",
    "\n",
    "for each_df_file in df_labels['File']:\n",
    "    for each_file in list_of_files:\n",
    "        if each_file.startswith(each_df_file):\n",
    "            \n",
    "            file = h5py.File(r'C:\\Users\\kj4755\\OneDrive - The Open University\\SPIN\\data\\level_1p0_data\\New occultations\\%s' %each_file,'r')\n",
    "            #file = h5py.File(r'/Users/kunal/OneDrive - The Open University/SPIN/data/level_1p0_data/New occultations/%s' %each_file,'r')\n",
    "\n",
    "            \n",
    "            T = np.array(file['Science/Transmission'])\n",
    "            TangAlt = np.array(file['Geometry/Point0/TangentAltSurface'])\n",
    "            wav = np.array(file['Science/Wavelength'])\n",
    "\n",
    "            avg_TangAlt = []\n",
    "\n",
    "            for j in range(TangAlt.shape[0]):\n",
    "                avg_TangAlt.append(np.mean(TangAlt[j,:]))\n",
    "\n",
    "\n",
    "\n",
    "            T_wav = T[:,np.array(np.where(wav == find_nearest(wav,f_wav))).flatten()].reshape(-1,)\n",
    "\n",
    "            if T_wav[0] > 0.5:\n",
    "                T_wav = T_wav[::-1]\n",
    "\n",
    "            z.append(T_wav)\n",
    "            \n",
    "            if avg_TangAlt[0] > 100:\n",
    "                avg_TangAlt = avg_TangAlt[::-1]\n",
    "            \n",
    "            y.append(avg_TangAlt)\n",
    "            \n",
    "z = np.array(z)\n",
    "y = np.array(y)"
   ]
  },
  {
   "cell_type": "code",
   "execution_count": 102,
   "metadata": {},
   "outputs": [
    {
     "data": {
      "text/plain": [
       "[<matplotlib.lines.Line2D at 0x29024de5b00>]"
      ]
     },
     "execution_count": 102,
     "metadata": {},
     "output_type": "execute_result"
    },
    {
     "data": {
      "image/png": "[encoded data removed]",
      "text/plain": [
       "<Figure size 432x288 with 1 Axes>"
      ]
     },
     "metadata": {
      "needs_background": "light"
     },
     "output_type": "display_data"
    }
   ],
   "source": [
    "plt.plot(z[71])"
   ]
  },
  {
   "cell_type": "code",
   "execution_count": 103,
   "metadata": {},
   "outputs": [],
   "source": [
    "def show_false_files(pred_classes, show_files = False):\n",
    "    \n",
    "    false_files = np.array(df_labels.File.iloc[id_test[np.where(abs(pred_classes-y_test) != 0)]])\n",
    "    df_false = pd.DataFrame(columns=['File','True Label','Predicted Label'],index=id_test[np.where(abs(pred_classes-y_test) != 0)])\n",
    "    df_false['File'] = false_files\n",
    "    a = []\n",
    "    b = []\n",
    "    for i in range(len(y_test)):\n",
    "        if abs(pred_classes[i]-y_test[i]) != 0:\n",
    "            a.append(y_test[i])\n",
    "            b.append(pred_classes[i])\n",
    "\n",
    "    df_false['True Label'] = a\n",
    "    df_false['Predicted Label'] = b\n",
    "    df_false.sort_index(inplace = True)\n",
    "\n",
    "    if show_files:\n",
    "        os.chdir(r'C:\\Users\\kj4755\\OneDrive - The Open University\\SPIN\\Transmission\\Plot_%snm' %f_wav)\n",
    "        file_list = os.listdir()\n",
    "        for each_file in file_list:\n",
    "            for _ in false_files:\n",
    "                if each_file.startswith(_):\n",
    "                    img = Image.open(each_file)\n",
    "                    img.show()\n",
    "                    \n",
    "        \n",
    "    return df_false"
   ]
  },
  {
   "cell_type": "code",
   "execution_count": 104,
   "metadata": {},
   "outputs": [],
   "source": [
    "alt_interp = np.arange(0,274,1)\n",
    "t_interp = []\n",
    "for i in range(len(z)):\n",
    "    z_interp = np.interp(alt_interp,y[i],z[i])\n",
    "    t_interp.append(z_interp)\n",
    "t_interp = np.array(t_interp)\n",
    "t_interp[t_interp < 0] = 0"
   ]
  },
  {
   "cell_type": "code",
   "execution_count": 105,
   "metadata": {},
   "outputs": [],
   "source": [
    "df_labels = df_labels[df_labels.Label != 6]\n",
    "indices = np.arange(len(np.array(df_labels['Label'])))\n",
    "X_train, X_test, y_train, y_test,id_train,id_test = train_test_split(t_interp, np.array(df_labels['Label']),indices, test_size=0.33)"
   ]
  },
  {
   "cell_type": "code",
   "execution_count": 120,
   "metadata": {},
   "outputs": [
    {
     "name": "stdout",
     "output_type": "stream",
     "text": [
      "75 1\n",
      "107 1\n",
      "86 1\n",
      "64 0\n",
      "3 0\n",
      "97 1\n",
      "92 3\n",
      "47 0\n",
      "88 1\n",
      "39 2\n",
      "84 0\n",
      "35 3\n",
      "58 1\n",
      "25 1\n",
      "93 0\n",
      "29 1\n",
      "67 0\n",
      "1 0\n",
      "41 0\n",
      "62 0\n",
      "77 0\n",
      "94 3\n",
      "102 3\n",
      "69 0\n",
      "20 0\n",
      "14 1\n",
      "54 0\n",
      "103 0\n",
      "87 0\n",
      "46 0\n",
      "49 0\n",
      "15 1\n",
      "27 3\n",
      "9 0\n",
      "101 3\n",
      "5 0\n"
     ]
    }
   ],
   "source": [
    "pred_labels = []\n",
    "\n",
    "for j,t in enumerate(X_test):\n",
    "    \n",
    "    peak_idx = detect_peaks(t,mph=0.05)\n",
    "    valley_idx = detect_peaks(t,mph = 0.963, valley = True)\n",
    "\n",
    "    p_structure = []\n",
    "    v_structure = []\n",
    "    \n",
    "    for peak in peak_idx:\n",
    "        if t[peak] < 0.963:\n",
    "            p_structure.append(peak)\n",
    "            \n",
    "    for valley in valley_idx:\n",
    "        if t[valley] > 0.02:\n",
    "            v_structure.append(valley)\n",
    "            \n",
    "    p_structure = np.array(p_structure)\n",
    "    v_structure = np.array(v_structure)\n",
    "            \n",
    "    \n",
    "    if len(v_structure) == 0: #smooth\n",
    "        pred_labels.append(0)\n",
    "        print(id_test[j],0)\n",
    "        \n",
    "    else:\n",
    "        if all(k <= 50 for k in v_structure):\n",
    "            pred_labels.append(1)\n",
    "            print(id_test[j],1)\n",
    "        elif all(50 < k <= 100 for k in v_structure): # low alt\n",
    "            if all(i <= 50 for i in p_structure):\n",
    "                pred_labels.append(3)\n",
    "                print(id_test[j],3.1)\n",
    "            else:\n",
    "                pred_labels.append(2)\n",
    "                print(id_test[j],2)\n",
    "        elif all(k > 100 for k in v_structure): # mid alt\n",
    "            pred_labels.append(4)\n",
    "            print(id_test[j],4)\n",
    "        else:\n",
    "            pred_labels.append(3)\n",
    "            print(id_test[j],3)\n",
    "\n",
    "pred_labels = np.array(pred_labels)"
   ]
  },
  {
   "cell_type": "code",
   "execution_count": 117,
   "metadata": {},
   "outputs": [
    {
     "name": "stdout",
     "output_type": "stream",
     "text": [
      "              precision    recall  f1-score   support\n",
      "\n",
      "           0       0.90      0.95      0.92        19\n",
      "           1       0.89      0.80      0.84        10\n",
      "           2       1.00      1.00      1.00         1\n",
      "           3       1.00      1.00      1.00         6\n",
      "\n",
      "    accuracy                           0.92        36\n",
      "   macro avg       0.95      0.94      0.94        36\n",
      "weighted avg       0.92      0.92      0.92        36\n",
      "\n"
     ]
    }
   ],
   "source": [
    "print(classification_report(pred_labels,y_test))"
   ]
  },
  {
   "cell_type": "code",
   "execution_count": 118,
   "metadata": {},
   "outputs": [
    {
     "data": {
      "text/html": [
       "<div>\n",
       "<style scoped>\n",
       "    .dataframe tbody tr th:only-of-type {\n",
       "        vertical-align: middle;\n",
       "    }\n",
       "\n",
       "    .dataframe tbody tr th {\n",
       "        vertical-align: top;\n",
       "    }\n",
       "\n",
       "    .dataframe thead th {\n",
       "        text-align: right;\n",
       "    }\n",
       "</style>\n",
       "<table border=\"1\" class=\"dataframe\">\n",
       "  <thead>\n",
       "    <tr style=\"text-align: right;\">\n",
       "      <th></th>\n",
       "      <th>File</th>\n",
       "      <th>True Label</th>\n",
       "      <th>Predicted Label</th>\n",
       "    </tr>\n",
       "  </thead>\n",
       "  <tbody>\n",
       "    <tr>\n",
       "      <th>14</th>\n",
       "      <td>20180501_235421_1p0_UVIS_U.h5</td>\n",
       "      <td>0.0</td>\n",
       "      <td>1</td>\n",
       "    </tr>\n",
       "    <tr>\n",
       "      <th>29</th>\n",
       "      <td>20180523_032150_1p0_UVIS_U.h5</td>\n",
       "      <td>0.0</td>\n",
       "      <td>1</td>\n",
       "    </tr>\n",
       "    <tr>\n",
       "      <th>87</th>\n",
       "      <td>20180619_094121_1p0_UVIS_E.h5</td>\n",
       "      <td>1.0</td>\n",
       "      <td>0</td>\n",
       "    </tr>\n",
       "  </tbody>\n",
       "</table>\n",
       "</div>"
      ],
      "text/plain": [
       "                             File  True Label  Predicted Label\n",
       "14  20180501_235421_1p0_UVIS_U.h5         0.0                1\n",
       "29  20180523_032150_1p0_UVIS_U.h5         0.0                1\n",
       "87  20180619_094121_1p0_UVIS_E.h5         1.0                0"
      ]
     },
     "execution_count": 118,
     "metadata": {},
     "output_type": "execute_result"
    }
   ],
   "source": [
    "show_false_files(pred_classes=pred_labels)"
   ]
  },
  {
   "cell_type": "code",
   "execution_count": 122,
   "metadata": {},
   "outputs": [
    {
     "name": "stdout",
     "output_type": "stream",
     "text": [
      "[] [18]\n"
     ]
    },
    {
     "data": {
      "image/png": "[encoded data removed]",
      "text/plain": [
       "<Figure size 432x288 with 1 Axes>"
      ]
     },
     "metadata": {
      "needs_background": "light"
     },
     "output_type": "display_data"
    }
   ],
   "source": [
    "i = 14\n",
    "\n",
    "plt.plot(t_interp[i])\n",
    "peak_idx = detect_peaks(t_interp[i],mph=0.05)\n",
    "valley_idx = detect_peaks(t_interp[i],mph = 0.963, valley = True)\n",
    "\n",
    "p_structure = []\n",
    "v_structure = []\n",
    "    \n",
    "for peak in peak_idx:\n",
    "    if t_interp[i,peak] < 0.963:\n",
    "        p_structure.append(peak)\n",
    "\n",
    "for valley in valley_idx:\n",
    "    if t_interp[i,valley] > 0.02:\n",
    "        v_structure.append(valley)\n",
    "\n",
    "p_structure = np.array(p_structure)\n",
    "v_structure = np.array(v_structure)\n",
    "\n",
    "print(p_structure,v_structure)\n",
    "\n",
    "if len(p_structure) != 0:\n",
    "    plt.plot(p_structure,t_interp[i,p_structure],'kx',label = 'Peak')\n",
    "if len(v_structure) != 0:\n",
    "    plt.plot(v_structure,t_interp[i,v_structure],'rx',label = 'Valley')\n",
    "plt.hlines(0.963,0,274,linestyles='dashed')\n",
    "plt.legend(loc = 'lower right')\n",
    "plt.grid()"
   ]
  },
  {
   "cell_type": "code",
   "execution_count": 115,
   "metadata": {},
   "outputs": [
    {
     "data": {
      "text/plain": [
       "array([0.        , 0.04139528])"
      ]
     },
     "execution_count": 115,
     "metadata": {},
     "output_type": "execute_result"
    }
   ],
   "source": [
    "t_interp[i,valley_idx]"
   ]
  }
 ],
 "metadata": {
  "kernelspec": {
   "display_name": "Python 3",
   "language": "python",
   "name": "python3"
  },
  "language_info": {
   "codemirror_mode": {
    "name": "ipython",
    "version": 3
   },
   "file_extension": ".py",
   "mimetype": "text/x-python",
   "name": "python",
   "nbconvert_exporter": "python",
   "pygments_lexer": "ipython3",
   "version": "3.7.3"
  }
 },
 "nbformat": 4,
 "nbformat_minor": 2
}
