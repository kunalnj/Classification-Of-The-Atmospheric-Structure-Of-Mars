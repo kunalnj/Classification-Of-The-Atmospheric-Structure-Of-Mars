{
 "cells": [
  {
   "cell_type": "code",
   "execution_count": 1,
   "metadata": {},
   "outputs": [],
   "source": [
    "import pandas as pd\n",
    "import numpy as np\n",
    "%matplotlib inline\n",
    "import matplotlib.pyplot as plt\n",
    "import os\n",
    "import h5py\n",
    "from peakfinder import detect_peaks\n",
    "from sklearn.model_selection import train_test_split\n",
    "from sklearn.metrics import precision_recall_fscore_support\n",
    "import scipy as sp\n",
    "from sklearn.metrics import classification_report\n",
    "import similaritymeasures\n",
    "from PIL import Image\n",
    "from tqdm import tqdm_notebook as tqdm\n",
    "from fastdtw import fastdtw\n",
    "from scipy.spatial.distance import euclidean"
   ]
  },
  {
   "cell_type": "code",
   "execution_count": 2,
   "metadata": {},
   "outputs": [],
   "source": [
    "#df_labels = pd.read_csv(r'C:\\Users\\kj4755\\OneDrive - The Open University\\SPIN\\Transmission\\Scripts\\smooth_labels.dat',delimiter = '\\s+',header = None,index_col = None)\n",
    "#df_labels = pd.read_csv(r'C:\\Users\\kj4755\\OneDrive - The Open University\\SPIN\\Transmission\\Scripts\\modified_labels1.txt',delimiter = '\\s+',header = None,index_col = None)\n",
    "df_labels = pd.read_csv(r'C:\\Users\\kj4755\\OneDrive - The Open University\\SPIN\\Transmission\\Scripts\\new labels1.txt',delimiter = '\\s+',header = None,index_col = None)\n",
    "\n",
    "#df_labels = pd.read_csv(r'/Users/kunal/OneDrive - The Open University/SPIN/Transmission/Scripts/smooth_labels.dat',delimiter = '\\s+',header = None,index_col = None)\n",
    "\n",
    "df_labels.columns = ['File','Label']\n",
    "#df_labels = pd.read_csv(r'C:\\Users\\kj4755\\OneDrive - The Open University\\SPIN\\Transmission\\Scripts\\alt labels.txt',delimiter = '\\s+',header = None,index_col = None)\n",
    "#df_labels = df_labels.drop(df_labels[df_labels.Label == 6].index)"
   ]
  },
  {
   "cell_type": "code",
   "execution_count": 3,
   "metadata": {},
   "outputs": [
    {
     "data": {
      "text/plain": [
       "File     20180521_034316_1p0_UVIS_U.h5\n",
       "Label                                0\n",
       "Name: 25, dtype: object"
      ]
     },
     "execution_count": 3,
     "metadata": {},
     "output_type": "execute_result"
    }
   ],
   "source": [
    "df_labels.iloc[25]"
   ]
  },
  {
   "cell_type": "code",
   "execution_count": 4,
   "metadata": {},
   "outputs": [],
   "source": [
    "z = []\n",
    "y = []\n",
    "\n",
    "def find_nearest(array, value):\n",
    "    array = np.asarray(array)\n",
    "    idx = (np.abs(array - value)).argmin()\n",
    "    return array[idx]\n",
    "\n",
    "f_wav = 250\n",
    "\n",
    "rootDir = r'C:\\Users\\kj4755\\OneDrive - The Open University\\SPIN\\data\\level_1p0_data\\New occultations'\n",
    "#rootDir = r'/Users/kunal/OneDrive - The Open University/SPIN/data/level_1p0_data/New occultations'\n",
    "os.chdir(rootDir)\n",
    "list_of_files = os.listdir(os.getcwd())\n",
    "\n",
    "for each_df_file in df_labels['File']:\n",
    "    for each_file in list_of_files:\n",
    "        if each_file.startswith(each_df_file):\n",
    "            \n",
    "            file = h5py.File(r'C:\\Users\\kj4755\\OneDrive - The Open University\\SPIN\\data\\level_1p0_data\\New occultations\\%s' %each_file,'r')\n",
    "            #file = h5py.File(r'/Users/kunal/OneDrive - The Open University/SPIN/data/level_1p0_data/New occultations/%s' %each_file,'r')\n",
    "\n",
    "            \n",
    "            T = np.array(file['Science/Transmission'])\n",
    "            TangAlt = np.array(file['Geometry/Point0/TangentAltSurface'])\n",
    "            wav = np.array(file['Science/Wavelength'])\n",
    "\n",
    "            avg_TangAlt = []\n",
    "\n",
    "            for j in range(TangAlt.shape[0]):\n",
    "                avg_TangAlt.append(np.mean(TangAlt[j,:]))\n",
    "\n",
    "            T_wav = T[:,np.array(np.where(wav == find_nearest(wav,f_wav))).flatten()].reshape(-1,)\n",
    "\n",
    "            if T_wav[0] > 0.5:\n",
    "                T_wav = T_wav[::-1]\n",
    "\n",
    "            z.append(T_wav)\n",
    "            \n",
    "            if avg_TangAlt[0] > 100:\n",
    "                avg_TangAlt = avg_TangAlt[::-1]\n",
    "            \n",
    "            y.append(avg_TangAlt)\n",
    "            \n",
    "z = np.array(z)\n",
    "y = np.array(y)"
   ]
  },
  {
   "cell_type": "code",
   "execution_count": 5,
   "metadata": {},
   "outputs": [],
   "source": [
    "alt_interp = np.arange(0,274,1)\n",
    "t_interp = []\n",
    "for i in range(len(z)):\n",
    "    z_interp = np.interp(alt_interp,y[i],z[i])\n",
    "    t_interp.append(z_interp)\n",
    "t_interp = np.array(t_interp)\n",
    "t_interp[t_interp < 0] = 0.0001"
   ]
  },
  {
   "cell_type": "code",
   "execution_count": 6,
   "metadata": {},
   "outputs": [],
   "source": [
    "t_clipped = []\n",
    "for j,t in enumerate(t_interp):\n",
    "    clip = np.array([])\n",
    "    peak_idx = detect_peaks(t)\n",
    "    for _ in t[peak_idx]:\n",
    "        clip = np.append(clip,_)\n",
    "        if _ > 0.98:\n",
    "            break\n",
    "    t_clipped.append(t[:np.where(t == clip[-1])[0][0]])\n",
    "t_clipped = np.array(t_clipped)           "
   ]
  },
  {
   "cell_type": "code",
   "execution_count": 7,
   "metadata": {},
   "outputs": [],
   "source": [
    "clipped_len = []\n",
    "for t in t_clipped: \n",
    "    clipped_len.append(len(t))\n",
    "\n",
    "t_clipped_max = t_interp[:,:max(clipped_len)]"
   ]
  },
  {
   "cell_type": "code",
   "execution_count": 8,
   "metadata": {},
   "outputs": [],
   "source": [
    "for i,t in enumerate(t_clipped_max):\n",
    "    \n",
    "    peak_idx = detect_peaks(t,mph=0.05)\n",
    "    valley_idx = detect_peaks(t,mph = 0.963, valley = True)\n",
    "\n",
    "    p_structure = []\n",
    "    v_structure_low = []\n",
    "    v_structure_high = []\n",
    "    \n",
    "    for peak in peak_idx:\n",
    "        if 0.2 < t[peak] < 0.963:\n",
    "            p_structure.append(peak)\n",
    "            \n",
    "    for valley in valley_idx:\n",
    "        if t[valley] < 0.2:\n",
    "            v_structure_low.append(valley)\n",
    "            \n",
    "    p_structure = np.array(p_structure)\n",
    "    v_structure_low = np.array(v_structure_low)\n",
    "    \n",
    "    if len(p_structure) != 0:\n",
    "        t_clipped_max[i,p_structure[0]]=5      "
   ]
  },
  {
   "cell_type": "code",
   "execution_count": 9,
   "metadata": {},
   "outputs": [],
   "source": [
    "alt_interp = np.arange(0,274,1)\n",
    "t_interp = []\n",
    "for i in range(len(z)):\n",
    "    z_interp = np.interp(alt_interp,y[i],z[i])\n",
    "    t_interp.append(z_interp)\n",
    "t_interp = np.array(t_interp)\n",
    "\n",
    "t_clipped = []\n",
    "for j,t in enumerate(t_interp):\n",
    "    clip = np.array([])\n",
    "    peak_idx = detect_peaks(t)\n",
    "    for _ in t[peak_idx]:\n",
    "        clip = np.append(clip,_)\n",
    "        if _ > 0.98:\n",
    "            break\n",
    "    t_clipped.append(t[:np.where(t == clip[-1])[0][0]])\n",
    "t_clipped = np.array(t_clipped)      "
   ]
  },
  {
   "cell_type": "code",
   "execution_count": 10,
   "metadata": {},
   "outputs": [
    {
     "name": "stdout",
     "output_type": "stream",
     "text": [
      "[36]\n"
     ]
    },
    {
     "data": {
      "text/plain": [
       "[<matplotlib.lines.Line2D at 0x162a7108b00>]"
      ]
     },
     "execution_count": 10,
     "metadata": {},
     "output_type": "execute_result"
    },
    {
     "data": {
      "image/png": "[encoded data removed]",
      "text/plain": [
       "<Figure size 432x288 with 1 Axes>"
      ]
     },
     "metadata": {
      "needs_background": "light"
     },
     "output_type": "display_data"
    }
   ],
   "source": [
    "i = 17\n",
    "\n",
    "plt.plot(t_clipped_max[i],'b')\n",
    "peak_idx = detect_peaks(t_interp[i],mph=0.05)\n",
    "p_structure = []\n",
    "for peak in peak_idx:\n",
    "    if 0.2 < t_interp[i,peak] < 0.963:\n",
    "        p_structure.append(peak)\n",
    "p_structure = np.array(p_structure)\n",
    "print(p_structure)\n",
    "plt.plot(t_interp[i],'b--')\n",
    "plt.plot(p_structure,t_interp[i,p_structure],'rx')\n"
   ]
  },
  {
   "cell_type": "code",
   "execution_count": 11,
   "metadata": {},
   "outputs": [],
   "source": [
    "indices = np.arange(len(np.array(df_labels['Label'])))\n",
    "#X_train, X_test, y_train, y_test,id_train,id_test = train_test_split(t_interp, np.array(df_labels['Label']),indices, test_size=0.33,random_state = 10)\n",
    "#X_train, X_test, y_train, y_test,id_train,id_test = train_test_split(t_clipped_max, np.array(df_labels['Label']),indices, test_size=0.33)\n",
    "X_train, X_test, y_train, y_test,id_train,id_test = train_test_split(t_clipped, np.array(df_labels['Label']),indices, test_size=0.33)"
   ]
  },
  {
   "cell_type": "code",
   "execution_count": 12,
   "metadata": {},
   "outputs": [
    {
     "data": {
      "text/plain": [
       "Int64Index([  7,  11,  13,  17,  19,  21,  22,  23,  28,  40,  59,  78,  82,\n",
       "             85,  93, 104, 105, 106, 107, 109, 111, 113, 115, 117, 122, 124,\n",
       "            125, 126, 127, 128, 132, 133, 134, 138, 139, 142, 145, 146, 147,\n",
       "            148, 149, 150, 151, 152, 153, 154, 156, 157, 158, 159, 160, 161,\n",
       "            163, 164, 165, 166, 168, 170, 171, 172, 173, 174, 181, 184, 186,\n",
       "            191, 193, 195, 197, 201, 202, 204, 206, 214, 218, 219, 224, 228,\n",
       "            230, 248, 250, 273, 281, 284, 307, 311, 317, 320, 322, 325, 330,\n",
       "            333, 343, 344, 345, 350, 353, 355, 374],\n",
       "           dtype='int64')"
      ]
     },
     "execution_count": 12,
     "metadata": {},
     "output_type": "execute_result"
    }
   ],
   "source": [
    "df_labels[df_labels.Label == 2].index"
   ]
  },
  {
   "cell_type": "code",
   "execution_count": 13,
   "metadata": {},
   "outputs": [
    {
     "data": {
      "text/plain": [
       "File     20180521_034316_1p0_UVIS_U.h5\n",
       "Label                                0\n",
       "Name: 25, dtype: object"
      ]
     },
     "execution_count": 13,
     "metadata": {},
     "output_type": "execute_result"
    }
   ],
   "source": [
    "df_labels.iloc[25]"
   ]
  },
  {
   "cell_type": "code",
   "execution_count": 14,
   "metadata": {},
   "outputs": [
    {
     "name": "stdout",
     "output_type": "stream",
     "text": [
      "clipped max =  6.37735545437012 clipped =  1.699012356357159 interp =  2.137915742634032\n"
     ]
    },
    {
     "data": {
      "text/plain": [
       "[<matplotlib.lines.Line2D at 0x162a71a97f0>]"
      ]
     },
     "execution_count": 14,
     "metadata": {},
     "output_type": "execute_result"
    },
    {
     "data": {
      "image/png": "[encoded data removed]",
      "text/plain": [
       "<Figure size 432x288 with 1 Axes>"
      ]
     },
     "metadata": {
      "needs_background": "light"
     },
     "output_type": "display_data"
    }
   ],
   "source": [
    "i,j = 7,8\n",
    "print('clipped max = ',fastdtw(t_clipped_max[i],t_clipped_max[j],dist = euclidean)[0],'clipped = ',fastdtw(t_clipped[i],t_clipped[j],dist = euclidean)[0],'interp = ',fastdtw(t_interp[i],t_interp[j],dist = euclidean)[0])\n",
    "\n",
    "plt.plot(t_clipped_max[i],'b')\n",
    "plt.plot(t_clipped_max[j],'r')\n"
   ]
  },
  {
   "cell_type": "code",
   "execution_count": 15,
   "metadata": {},
   "outputs": [
    {
     "data": {
      "application/vnd.jupyter.widget-view+json": {
       "model_id": "5a65a82b4ead494999f2820381bd2086",
       "version_major": 2,
       "version_minor": 0
      },
      "text/plain": [
       "HBox(children=(IntProgress(value=0, max=124), HTML(value='')))"
      ]
     },
     "metadata": {},
     "output_type": "display_data"
    },
    {
     "name": "stdout",
     "output_type": "stream",
     "text": [
      "\n"
     ]
    },
    {
     "ename": "ValueError",
     "evalue": "could not broadcast input array from shape (92) into shape (69)",
     "output_type": "error",
     "traceback": [
      "\u001b[1;31m---------------------------------------------------------------------------\u001b[0m",
      "\u001b[1;31mValueError\u001b[0m                                Traceback (most recent call last)",
      "\u001b[1;32m<ipython-input-15-37edb981b798>\u001b[0m in \u001b[0;36m<module>\u001b[1;34m\u001b[0m\n\u001b[0;32m     10\u001b[0m         \u001b[0mt1\u001b[0m \u001b[1;33m=\u001b[0m \u001b[0mnp\u001b[0m\u001b[1;33m.\u001b[0m\u001b[0mzeros\u001b[0m\u001b[1;33m(\u001b[0m\u001b[1;33m(\u001b[0m\u001b[0mlen\u001b[0m\u001b[1;33m(\u001b[0m\u001b[0mX_train\u001b[0m\u001b[1;33m[\u001b[0m\u001b[1;36m0\u001b[0m\u001b[1;33m]\u001b[0m\u001b[1;33m)\u001b[0m\u001b[1;33m,\u001b[0m\u001b[1;36m2\u001b[0m\u001b[1;33m)\u001b[0m\u001b[1;33m)\u001b[0m\u001b[1;33m\u001b[0m\u001b[1;33m\u001b[0m\u001b[0m\n\u001b[0;32m     11\u001b[0m         \u001b[0mt1\u001b[0m\u001b[1;33m[\u001b[0m\u001b[1;33m:\u001b[0m\u001b[1;33m,\u001b[0m\u001b[1;36m0\u001b[0m\u001b[1;33m]\u001b[0m \u001b[1;33m=\u001b[0m \u001b[0mnp\u001b[0m\u001b[1;33m.\u001b[0m\u001b[0marange\u001b[0m\u001b[1;33m(\u001b[0m\u001b[0mlen\u001b[0m\u001b[1;33m(\u001b[0m\u001b[0mX_train\u001b[0m\u001b[1;33m[\u001b[0m\u001b[1;36m0\u001b[0m\u001b[1;33m]\u001b[0m\u001b[1;33m)\u001b[0m\u001b[1;33m)\u001b[0m\u001b[1;33m\u001b[0m\u001b[1;33m\u001b[0m\u001b[0m\n\u001b[1;32m---> 12\u001b[1;33m         \u001b[0mt1\u001b[0m\u001b[1;33m[\u001b[0m\u001b[1;33m:\u001b[0m\u001b[1;33m,\u001b[0m\u001b[1;36m1\u001b[0m\u001b[1;33m]\u001b[0m \u001b[1;33m=\u001b[0m \u001b[0mX_train\u001b[0m\u001b[1;33m[\u001b[0m\u001b[0mj\u001b[0m\u001b[1;33m]\u001b[0m\u001b[1;33m\u001b[0m\u001b[1;33m\u001b[0m\u001b[0m\n\u001b[0m\u001b[0;32m     13\u001b[0m \u001b[1;33m\u001b[0m\u001b[0m\n\u001b[0;32m     14\u001b[0m         \u001b[1;31m#dm[i,j] =similaritymeasures.curve_length_measure(t0,t1)\u001b[0m\u001b[1;33m\u001b[0m\u001b[1;33m\u001b[0m\u001b[1;33m\u001b[0m\u001b[0m\n",
      "\u001b[1;31mValueError\u001b[0m: could not broadcast input array from shape (92) into shape (69)"
     ]
    }
   ],
   "source": [
    "dm = np.zeros((len(X_test),len(X_train)))\n",
    "\n",
    "for i in tqdm(range(len(X_test))):\n",
    "    \n",
    "    t0 = np.zeros((len(X_test[0]),2))\n",
    "    t0[:,0] = np.arange(len(X_test[0]))\n",
    "    t0[:,1] = X_test[i]\n",
    "    \n",
    "    for j in range(len(X_train)):\n",
    "        t1 = np.zeros((len(X_train[0]),2))\n",
    "        t1[:,0] = np.arange(len(X_train[0]))\n",
    "        t1[:,1] = X_train[j]\n",
    "        \n",
    "        #dm[i,j] =similaritymeasures.curve_length_measure(t0,t1)\n",
    "        #dm[i,j] =similaritymeasures.pcm(t0,t1)\n",
    "        #dm[i,j] =similaritymeasures.frechet_dist(t0,t1)\n",
    "        #dm[i,j] = similaritymeasures.area_between_two_curves(t0,t1)\n",
    "        dm[i,j] =similaritymeasures.dtw(t0,t1)[0]\n",
    "        #dm[i,j] =fastdtw(t0,t1,dist = euclidean)[0]"
   ]
  },
  {
   "cell_type": "code",
   "execution_count": null,
   "metadata": {},
   "outputs": [],
   "source": [
    "dm_sorted = dm[:,dm[:].argsort()]\n",
    "sorted_id = dm[:].argsort()\n",
    "label_matrix = y_train[sorted_id]\n",
    "\n",
    "\n",
    "precision = []\n",
    "for k in range(1,50):\n",
    "    labels = []\n",
    "    for i in range(len(y_test)):\n",
    "        labels.append(sp.stats.mode(label_matrix[i,:k])[0][0])\n",
    "\n",
    "    precision.append(precision_recall_fscore_support(labels,y_test,average = 'macro')[0])\n",
    "    \n",
    "k = np.array(np.where(precision == max(precision))).flatten() + 1\n",
    "\n",
    "print('Max precision = ', max(precision), ' at k =', k)"
   ]
  },
  {
   "cell_type": "code",
   "execution_count": null,
   "metadata": {},
   "outputs": [],
   "source": [
    "labels = []\n",
    "for i in range(len(y_test)):\n",
    "    labels.append(sp.stats.mode(label_matrix[i,:k[0]])[0][0])\n",
    "\n",
    "labels = np.array(labels)\n",
    "print(classification_report(labels,y_test))"
   ]
  },
  {
   "cell_type": "code",
   "execution_count": null,
   "metadata": {},
   "outputs": [],
   "source": [
    "def show_false_files(pred_classes, show_files = False):\n",
    "\n",
    "    false_files = np.array(df_labels.File.iloc[id_test[np.where(abs(pred_classes-y_test) != 0)]])\n",
    "    df_false = pd.DataFrame(columns=['File','True Label','Predicted Label'],index=id_test[np.where(abs(pred_classes-y_test) != 0)])\n",
    "    df_false['File'] = false_files\n",
    "    a = []\n",
    "    b = []\n",
    "    for i in range(len(y_test)):\n",
    "        if abs(pred_classes[i]-y_test[i]) != 0:\n",
    "            a.append(y_test[i])\n",
    "            b.append(pred_classes[i])\n",
    "\n",
    "    df_false['True Label'] = a\n",
    "    df_false['Predicted Label'] = b\n",
    "    df_false.sort_index(inplace = True)\n",
    "\n",
    "    if show_files:\n",
    "        os.chdir(r'C:\\Users\\kj4755\\OneDrive - The Open University\\SPIN\\Transmission\\Plot_%snm' %f_wav)\n",
    "        file_list = os.listdir()\n",
    "        for each_file in file_list:\n",
    "            for _ in false_files:\n",
    "                if each_file.startswith(_):\n",
    "                    img = Image.open(each_file)\n",
    "                    img.show()\n",
    "\n",
    "\n",
    "    return df_false\n",
    "\n",
    "\n",
    "show_false_files(pred_classes=labels)"
   ]
  },
  {
   "cell_type": "code",
   "execution_count": null,
   "metadata": {},
   "outputs": [],
   "source": [
    "i = 26\n",
    "plt.subplot(1,2,1)\n",
    "plt.plot(t_clipped_max[i],'b')\n",
    "peak_idx = detect_peaks(t_interp[i],mph=0.05)\n",
    "p_structure = []\n",
    "for peak in peak_idx:\n",
    "    if 0.2 < t_interp[i,peak] < 0.963:\n",
    "        p_structure.append(peak)\n",
    "p_structure = np.array(p_structure)\n",
    "print(p_structure)\n",
    "plt.subplot(1,2,2)\n",
    "plt.plot(t_interp[i],'b--')\n",
    "plt.plot(p_structure,t_interp[i,p_structure],'rx')"
   ]
  }
 ],
 "metadata": {
  "kernelspec": {
   "display_name": "Python 3",
   "language": "python",
   "name": "python3"
  },
  "language_info": {
   "codemirror_mode": {
    "name": "ipython",
    "version": 3
   },
   "file_extension": ".py",
   "mimetype": "text/x-python",
   "name": "python",
   "nbconvert_exporter": "python",
   "pygments_lexer": "ipython3",
   "version": "3.7.3"
  }
 },
 "nbformat": 4,
 "nbformat_minor": 2
}
