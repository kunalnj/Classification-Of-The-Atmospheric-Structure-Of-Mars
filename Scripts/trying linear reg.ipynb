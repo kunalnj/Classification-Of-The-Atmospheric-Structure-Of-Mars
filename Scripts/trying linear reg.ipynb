{
 "cells": [
  {
   "cell_type": "code",
   "execution_count": 1,
   "metadata": {},
   "outputs": [],
   "source": [
    "import numpy as np\n",
    "import pandas as pd\n",
    "import matplotlib.pyplot as plt\n",
    "import os\n",
    "import h5py\n",
    "import sklearn\n",
    "from sklearn.preprocessing import scale\n",
    "from sklearn.cluster import KMeans"
   ]
  },
  {
   "cell_type": "code",
   "execution_count": 14,
   "metadata": {},
   "outputs": [],
   "source": [
    "file = h5py.File(r'C:\\Users\\kj4755\\OneDrive - The Open University\\SPIN\\data\\level_1p0_data\\occultation\\20180422_001650_1p0_UVIS_U.h5','r')\n",
    "\n",
    "T = np.array(file['Science/Transmission'])\n",
    "TangAlt = np.array(file['Geometry/Point0/TangentAltSurface'])\n",
    "wav = np.array(file['Science/Wavelength'])\n",
    "\n",
    "\n",
    "avg_TangAlt = np.array([])\n",
    "\n",
    "for j in range(TangAlt.shape[0]):\n",
    "    avg_TangAlt = np.append(avg_TangAlt,np.mean(TangAlt[j,:]))\n",
    "\n",
    "T_250 = T[:,np.array(np.where(wav == min(abs(wav-250))+250)).flatten()].flatten()"
   ]
  },
  {
   "cell_type": "code",
   "execution_count": 15,
   "metadata": {},
   "outputs": [
    {
     "data": {
      "text/plain": [
       "(67,)"
      ]
     },
     "execution_count": 15,
     "metadata": {},
     "output_type": "execute_result"
    }
   ],
   "source": [
    "T_250.shape"
   ]
  },
  {
   "cell_type": "code",
   "execution_count": 22,
   "metadata": {},
   "outputs": [
    {
     "data": {
      "text/html": [
       "<div>\n",
       "<style scoped>\n",
       "    .dataframe tbody tr th:only-of-type {\n",
       "        vertical-align: middle;\n",
       "    }\n",
       "\n",
       "    .dataframe tbody tr th {\n",
       "        vertical-align: top;\n",
       "    }\n",
       "\n",
       "    .dataframe thead th {\n",
       "        text-align: right;\n",
       "    }\n",
       "</style>\n",
       "<table border=\"1\" class=\"dataframe\">\n",
       "  <thead>\n",
       "    <tr style=\"text-align: right;\">\n",
       "      <th></th>\n",
       "      <th>Transmission</th>\n",
       "      <th>Altitude</th>\n",
       "    </tr>\n",
       "  </thead>\n",
       "  <tbody>\n",
       "    <tr>\n",
       "      <th>0</th>\n",
       "      <td>-0.000436</td>\n",
       "      <td>0.409503</td>\n",
       "    </tr>\n",
       "    <tr>\n",
       "      <th>1</th>\n",
       "      <td>0.000280</td>\n",
       "      <td>5.401151</td>\n",
       "    </tr>\n",
       "    <tr>\n",
       "      <th>2</th>\n",
       "      <td>0.005540</td>\n",
       "      <td>10.361514</td>\n",
       "    </tr>\n",
       "    <tr>\n",
       "      <th>3</th>\n",
       "      <td>0.019005</td>\n",
       "      <td>15.274986</td>\n",
       "    </tr>\n",
       "    <tr>\n",
       "      <th>4</th>\n",
       "      <td>0.017747</td>\n",
       "      <td>20.183040</td>\n",
       "    </tr>\n",
       "  </tbody>\n",
       "</table>\n",
       "</div>"
      ],
      "text/plain": [
       "   Transmission   Altitude\n",
       "0     -0.000436   0.409503\n",
       "1      0.000280   5.401151\n",
       "2      0.005540  10.361514\n",
       "3      0.019005  15.274986\n",
       "4      0.017747  20.183040"
      ]
     },
     "execution_count": 22,
     "metadata": {},
     "output_type": "execute_result"
    }
   ],
   "source": [
    "df = pd.DataFrame({'Transmission' : T_250, 'Altitude' : avg_TangAlt})\n",
    "df.head()"
   ]
  },
  {
   "cell_type": "code",
   "execution_count": 23,
   "metadata": {},
   "outputs": [
    {
     "name": "stdout",
     "output_type": "stream",
     "text": [
      "              Transmission  Altitude\n",
      "Transmission      1.000000  0.616211\n",
      "Altitude          0.616211  1.000000\n"
     ]
    }
   ],
   "source": [
    "print (df.corr())"
   ]
  },
  {
   "cell_type": "code",
   "execution_count": 28,
   "metadata": {},
   "outputs": [
    {
     "data": {
      "text/plain": [
       "LinearRegression(copy_X=True, fit_intercept=True, n_jobs=None, normalize=True)"
      ]
     },
     "execution_count": 28,
     "metadata": {},
     "output_type": "execute_result"
    }
   ],
   "source": [
    "from sklearn.linear_model import LinearRegression\n",
    "\n",
    "linreg = LinearRegression(normalize = True)\n",
    "linreg.fit(df['Altitude'].values.reshape(-1,1),df['Transmission'].values.reshape(-1,1))"
   ]
  },
  {
   "cell_type": "code",
   "execution_count": 31,
   "metadata": {},
   "outputs": [
    {
     "name": "stdout",
     "output_type": "stream",
     "text": [
      "0.3797159544642035\n"
     ]
    }
   ],
   "source": [
    "print(linreg.score(df['Altitude'].values.reshape(-1,1),df['Transmission'].values.reshape(-1,1)))"
   ]
  },
  {
   "cell_type": "code",
   "execution_count": null,
   "metadata": {},
   "outputs": [],
   "source": []
  }
 ],
 "metadata": {
  "kernelspec": {
   "display_name": "Python 3",
   "language": "python",
   "name": "python3"
  },
  "language_info": {
   "codemirror_mode": {
    "name": "ipython",
    "version": 3
   },
   "file_extension": ".py",
   "mimetype": "text/x-python",
   "name": "python",
   "nbconvert_exporter": "python",
   "pygments_lexer": "ipython3",
   "version": "3.7.3"
  }
 },
 "nbformat": 4,
 "nbformat_minor": 2
}
